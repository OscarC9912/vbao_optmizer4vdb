{
 "cells": [
  {
   "cell_type": "code",
   "execution_count": 1,
   "metadata": {},
   "outputs": [],
   "source": [
    "import json\n",
    "import numpy as np\n",
    "import matplotlib.pyplot as plt"
   ]
  },
  {
   "cell_type": "code",
   "execution_count": 12,
   "metadata": {},
   "outputs": [],
   "source": [
    "imdb_data, vec_imdb_data = None, None\n",
    "\n",
    "with open(\"/home/zchenhj/workspace/vBao/statistics/benchmark_imdb.json\") as f:\n",
    "    imdb_data = json.load(f)\n",
    "\n",
    "with open(\"/home/zchenhj/workspace/vBao/statistics/benchmark_vec_imdb.json\") as f:\n",
    "    vec_imdb_data = json.load(f)\n",
    "\n",
    "assert len(imdb_data) == len(vec_imdb_data)"
   ]
  },
  {
   "cell_type": "code",
   "execution_count": 19,
   "metadata": {},
   "outputs": [],
   "source": [
    "output = dict()\n",
    "\n",
    "for query in imdb_data:\n",
    "    \n",
    "    temp_imdb_min, temp_vimdb_min = None, None\n",
    "    curr_rt = []\n",
    "    for i in range(len(imdb_data[query])):\n",
    "        curr_rt.append(float(imdb_data[query][i].split('|')[-1]))\n",
    "    \n",
    "    min_val_imdb = min(curr_rt)\n",
    "    temp_imdb_min = curr_rt.index(min_val_imdb)\n",
    "    vquery = f\"{query.split('_')[0]}.sql\"\n",
    "    curr_rt = []\n",
    "    for i in range(len(vec_imdb_data[vquery])):\n",
    "        curr_rt.append(float(vec_imdb_data[vquery][i].split('|')[-1]))\n",
    "    \n",
    "    min_val_imdb = min(curr_rt)\n",
    "    temp_vimdb_min = curr_rt.index(min_val_imdb)\n",
    "    \n",
    "    output[f'{query}-{vquery}'] = f\"Plain Optimal: {temp_imdb_min}, Vec Optimal: {temp_vimdb_min}\""
   ]
  },
  {
   "cell_type": "code",
   "execution_count": 20,
   "metadata": {},
   "outputs": [
    {
     "data": {
      "text/plain": [
       "{'q10_2a265.sql-q10.sql': 'Plain Optimal: 2, Vec Optimal: 3',\n",
       " 'q11_17e.sql-q11.sql': 'Plain Optimal: 1, Vec Optimal: 4',\n",
       " 'q12_17a.sql-q12.sql': 'Plain Optimal: 3, Vec Optimal: 4',\n",
       " 'q13_7a121.sql-q13.sql': 'Plain Optimal: 2, Vec Optimal: 0',\n",
       " 'q14_6a349.sql-q14.sql': 'Plain Optimal: 2, Vec Optimal: 2',\n",
       " 'q15_18a.sql-q15.sql': 'Plain Optimal: 4, Vec Optimal: 4',\n",
       " 'q16_26c.sql-q16.sql': 'Plain Optimal: 4, Vec Optimal: 2',\n",
       " 'q17_7a164.sql-q17.sql': 'Plain Optimal: 4, Vec Optimal: 4',\n",
       " 'q18_7a103.sql-q18.sql': 'Plain Optimal: 4, Vec Optimal: 2',\n",
       " 'q19_2a471.sql-q19.sql': 'Plain Optimal: 0, Vec Optimal: 0',\n",
       " 'q20_24b.sql-q20.sql': 'Plain Optimal: 4, Vec Optimal: 4',\n",
       " 'q21_2a396.sql-q21.sql': 'Plain Optimal: 4, Vec Optimal: 4',\n",
       " 'q22_8a27.sql-q22.sql': 'Plain Optimal: 2, Vec Optimal: 0',\n",
       " 'q23_19d.sql-q23.sql': 'Plain Optimal: 2, Vec Optimal: 2',\n",
       " 'q24_32a.sql-q24.sql': 'Plain Optimal: 4, Vec Optimal: 2',\n",
       " 'q25_13d.sql-q25.sql': 'Plain Optimal: 0, Vec Optimal: 1',\n",
       " 'q26_2a274.sql-q26.sql': 'Plain Optimal: 4, Vec Optimal: 4',\n",
       " 'q27_3c.sql-q27.sql': 'Plain Optimal: 4, Vec Optimal: 4',\n",
       " 'q28_13a.sql-q28.sql': 'Plain Optimal: 4, Vec Optimal: 4',\n",
       " 'q29_6e.sql-q29.sql': 'Plain Optimal: 4, Vec Optimal: 4',\n",
       " 'q2_8a82.sql-q2.sql': 'Plain Optimal: 1, Vec Optimal: 4',\n",
       " 'q30_18c.sql-q30.sql': 'Plain Optimal: 4, Vec Optimal: 0',\n",
       " 'q31_2a39.sql-q31.sql': 'Plain Optimal: 0, Vec Optimal: 4',\n",
       " 'q32_2a493.sql-q32.sql': 'Plain Optimal: 4, Vec Optimal: 2',\n",
       " 'q33_2a156.sql-q33.sql': 'Plain Optimal: 4, Vec Optimal: 2',\n",
       " 'q34_1a275.sql-q34.sql': 'Plain Optimal: 4, Vec Optimal: 4',\n",
       " 'q35_1a1508.sql-q35.sql': 'Plain Optimal: 0, Vec Optimal: 0',\n",
       " 'q36_7a136.sql-q36.sql': 'Plain Optimal: 3, Vec Optimal: 3',\n",
       " 'q37_2a1291.sql-q37.sql': 'Plain Optimal: 0, Vec Optimal: 2',\n",
       " 'q38_2a1870.sql-q38.sql': 'Plain Optimal: 0, Vec Optimal: 2',\n",
       " 'q39_2a2781.sql-q39.sql': 'Plain Optimal: 4, Vec Optimal: 3',\n",
       " 'q3_7a99.sql-q3.sql': 'Plain Optimal: 4, Vec Optimal: 4',\n",
       " 'q40_2a8120.sql-q40.sql': 'Plain Optimal: 4, Vec Optimal: 4',\n",
       " 'q4_8a122.sql-q4.sql': 'Plain Optimal: 2, Vec Optimal: 3',\n",
       " 'q5_8a423.sql-q5.sql': 'Plain Optimal: 3, Vec Optimal: 4',\n",
       " 'q6_16b.sql-q6.sql': 'Plain Optimal: 3, Vec Optimal: 4',\n",
       " 'q7_7a48.sql-q7.sql': 'Plain Optimal: 3, Vec Optimal: 4',\n",
       " 'q8_6a505.sql-q8.sql': 'Plain Optimal: 1, Vec Optimal: 4',\n",
       " 'q9_5a48.sql-q9.sql': 'Plain Optimal: 3, Vec Optimal: 3',\n",
       " 'q1_8a463.sql-q1.sql': 'Plain Optimal: 3, Vec Optimal: 0'}"
      ]
     },
     "execution_count": 20,
     "metadata": {},
     "output_type": "execute_result"
    }
   ],
   "source": [
    "output"
   ]
  }
 ],
 "metadata": {
  "kernelspec": {
   "display_name": "bao",
   "language": "python",
   "name": "python3"
  },
  "language_info": {
   "codemirror_mode": {
    "name": "ipython",
    "version": 3
   },
   "file_extension": ".py",
   "mimetype": "text/x-python",
   "name": "python",
   "nbconvert_exporter": "python",
   "pygments_lexer": "ipython3",
   "version": "3.9.20"
  }
 },
 "nbformat": 4,
 "nbformat_minor": 2
}
